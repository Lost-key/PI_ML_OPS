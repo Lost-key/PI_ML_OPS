{
 "cells": [
  {
   "cell_type": "code",
   "execution_count": 1,
   "metadata": {},
   "outputs": [],
   "source": [
    "import pandas as pd\n",
    "import re\n",
    "from textblob import TextBlob\n",
    "import matplotlib.pyplot as plt"
   ]
  },
  {
   "cell_type": "markdown",
   "metadata": {},
   "source": [
    "### Cargamos en un df el reviews_inicial.parquet"
   ]
  },
  {
   "cell_type": "code",
   "execution_count": 2,
   "metadata": {},
   "outputs": [
    {
     "data": {
      "text/html": [
       "<div>\n",
       "<style scoped>\n",
       "    .dataframe tbody tr th:only-of-type {\n",
       "        vertical-align: middle;\n",
       "    }\n",
       "\n",
       "    .dataframe tbody tr th {\n",
       "        vertical-align: top;\n",
       "    }\n",
       "\n",
       "    .dataframe thead th {\n",
       "        text-align: right;\n",
       "    }\n",
       "</style>\n",
       "<table border=\"1\" class=\"dataframe\">\n",
       "  <thead>\n",
       "    <tr style=\"text-align: right;\">\n",
       "      <th></th>\n",
       "      <th>user_id</th>\n",
       "      <th>user_url</th>\n",
       "      <th>funny</th>\n",
       "      <th>posted</th>\n",
       "      <th>last_edited</th>\n",
       "      <th>item_id</th>\n",
       "      <th>helpful</th>\n",
       "      <th>recommend</th>\n",
       "      <th>review</th>\n",
       "    </tr>\n",
       "  </thead>\n",
       "  <tbody>\n",
       "    <tr>\n",
       "      <th>0</th>\n",
       "      <td>76561197970982479</td>\n",
       "      <td>http://steamcommunity.com/profiles/76561197970...</td>\n",
       "      <td></td>\n",
       "      <td>Posted November 5, 2011.</td>\n",
       "      <td></td>\n",
       "      <td>1250</td>\n",
       "      <td>No ratings yet</td>\n",
       "      <td>True</td>\n",
       "      <td>Simple yet with great replayability. In my opi...</td>\n",
       "    </tr>\n",
       "    <tr>\n",
       "      <th>1</th>\n",
       "      <td>76561197970982479</td>\n",
       "      <td>http://steamcommunity.com/profiles/76561197970...</td>\n",
       "      <td></td>\n",
       "      <td>Posted July 15, 2011.</td>\n",
       "      <td></td>\n",
       "      <td>22200</td>\n",
       "      <td>No ratings yet</td>\n",
       "      <td>True</td>\n",
       "      <td>It's unique and worth a playthrough.</td>\n",
       "    </tr>\n",
       "    <tr>\n",
       "      <th>2</th>\n",
       "      <td>76561197970982479</td>\n",
       "      <td>http://steamcommunity.com/profiles/76561197970...</td>\n",
       "      <td></td>\n",
       "      <td>Posted April 21, 2011.</td>\n",
       "      <td></td>\n",
       "      <td>43110</td>\n",
       "      <td>No ratings yet</td>\n",
       "      <td>True</td>\n",
       "      <td>Great atmosphere. The gunplay can be a bit chu...</td>\n",
       "    </tr>\n",
       "    <tr>\n",
       "      <th>3</th>\n",
       "      <td>js41637</td>\n",
       "      <td>http://steamcommunity.com/id/js41637</td>\n",
       "      <td></td>\n",
       "      <td>Posted June 24, 2014.</td>\n",
       "      <td></td>\n",
       "      <td>251610</td>\n",
       "      <td>15 of 20 people (75%) found this review helpful</td>\n",
       "      <td>True</td>\n",
       "      <td>I know what you think when you see this title ...</td>\n",
       "    </tr>\n",
       "    <tr>\n",
       "      <th>4</th>\n",
       "      <td>js41637</td>\n",
       "      <td>http://steamcommunity.com/id/js41637</td>\n",
       "      <td></td>\n",
       "      <td>Posted September 8, 2013.</td>\n",
       "      <td></td>\n",
       "      <td>227300</td>\n",
       "      <td>0 of 1 people (0%) found this review helpful</td>\n",
       "      <td>True</td>\n",
       "      <td>For a simple (it's actually not all that simpl...</td>\n",
       "    </tr>\n",
       "  </tbody>\n",
       "</table>\n",
       "</div>"
      ],
      "text/plain": [
       "             user_id                                           user_url funny  \\\n",
       "0  76561197970982479  http://steamcommunity.com/profiles/76561197970...         \n",
       "1  76561197970982479  http://steamcommunity.com/profiles/76561197970...         \n",
       "2  76561197970982479  http://steamcommunity.com/profiles/76561197970...         \n",
       "3            js41637               http://steamcommunity.com/id/js41637         \n",
       "4            js41637               http://steamcommunity.com/id/js41637         \n",
       "\n",
       "                      posted last_edited item_id  \\\n",
       "0   Posted November 5, 2011.                1250   \n",
       "1      Posted July 15, 2011.               22200   \n",
       "2     Posted April 21, 2011.               43110   \n",
       "3      Posted June 24, 2014.              251610   \n",
       "4  Posted September 8, 2013.              227300   \n",
       "\n",
       "                                           helpful recommend  \\\n",
       "0                                   No ratings yet      True   \n",
       "1                                   No ratings yet      True   \n",
       "2                                   No ratings yet      True   \n",
       "3  15 of 20 people (75%) found this review helpful      True   \n",
       "4     0 of 1 people (0%) found this review helpful      True   \n",
       "\n",
       "                                              review  \n",
       "0  Simple yet with great replayability. In my opi...  \n",
       "1               It's unique and worth a playthrough.  \n",
       "2  Great atmosphere. The gunplay can be a bit chu...  \n",
       "3  I know what you think when you see this title ...  \n",
       "4  For a simple (it's actually not all that simpl...  "
      ]
     },
     "execution_count": 2,
     "metadata": {},
     "output_type": "execute_result"
    }
   ],
   "source": [
    "df_reviews=pd.read_parquet('processed_data/reviews_inicial.parquet')\n",
    "df_reviews.head()"
   ]
  },
  {
   "cell_type": "markdown",
   "metadata": {},
   "source": [
    "### Se verifica que no haya valores nulos"
   ]
  },
  {
   "cell_type": "code",
   "execution_count": 3,
   "metadata": {},
   "outputs": [
    {
     "data": {
      "text/plain": [
       "user_id         0\n",
       "user_url        0\n",
       "funny          28\n",
       "posted         28\n",
       "last_edited    28\n",
       "item_id        28\n",
       "helpful        28\n",
       "recommend      28\n",
       "review         28\n",
       "dtype: int64"
      ]
     },
     "execution_count": 3,
     "metadata": {},
     "output_type": "execute_result"
    }
   ],
   "source": [
    "df_reviews.isnull().sum()"
   ]
  },
  {
   "cell_type": "markdown",
   "metadata": {},
   "source": [
    "### Se eliminan los registros que no tienen reviews sobre ningun juego"
   ]
  },
  {
   "cell_type": "code",
   "execution_count": 4,
   "metadata": {},
   "outputs": [],
   "source": [
    "df_reviews = df_reviews.dropna(subset=['review'])"
   ]
  },
  {
   "cell_type": "markdown",
   "metadata": {},
   "source": [
    "### #Se verifican filas duplicadas en todo el DataFrame"
   ]
  },
  {
   "cell_type": "code",
   "execution_count": 5,
   "metadata": {},
   "outputs": [],
   "source": [
    "duplicadas = df_reviews.duplicated()"
   ]
  },
  {
   "cell_type": "markdown",
   "metadata": {},
   "source": [
    "### Aplicamos la mascara booleana para mostrar los duplicados"
   ]
  },
  {
   "cell_type": "code",
   "execution_count": 6,
   "metadata": {},
   "outputs": [
    {
     "data": {
      "text/html": [
       "<div>\n",
       "<style scoped>\n",
       "    .dataframe tbody tr th:only-of-type {\n",
       "        vertical-align: middle;\n",
       "    }\n",
       "\n",
       "    .dataframe tbody tr th {\n",
       "        vertical-align: top;\n",
       "    }\n",
       "\n",
       "    .dataframe thead th {\n",
       "        text-align: right;\n",
       "    }\n",
       "</style>\n",
       "<table border=\"1\" class=\"dataframe\">\n",
       "  <thead>\n",
       "    <tr style=\"text-align: right;\">\n",
       "      <th></th>\n",
       "      <th>user_id</th>\n",
       "      <th>user_url</th>\n",
       "      <th>funny</th>\n",
       "      <th>posted</th>\n",
       "      <th>last_edited</th>\n",
       "      <th>item_id</th>\n",
       "      <th>helpful</th>\n",
       "      <th>recommend</th>\n",
       "      <th>review</th>\n",
       "    </tr>\n",
       "  </thead>\n",
       "  <tbody>\n",
       "    <tr>\n",
       "      <th>1114</th>\n",
       "      <td>bokkkbokkk</td>\n",
       "      <td>http://steamcommunity.com/id/bokkkbokkk</td>\n",
       "      <td></td>\n",
       "      <td>Posted September 24, 2015.</td>\n",
       "      <td></td>\n",
       "      <td>346110</td>\n",
       "      <td>1 of 1 people (100%) found this review helpful</td>\n",
       "      <td>True</td>\n",
       "      <td>yep</td>\n",
       "    </tr>\n",
       "    <tr>\n",
       "      <th>2894</th>\n",
       "      <td>ImSeriouss</td>\n",
       "      <td>http://steamcommunity.com/id/ImSeriouss</td>\n",
       "      <td></td>\n",
       "      <td>Posted January 10, 2014.</td>\n",
       "      <td></td>\n",
       "      <td>218620</td>\n",
       "      <td>1 of 3 people (33%) found this review helpful</td>\n",
       "      <td>True</td>\n",
       "      <td>Good graphics, fun heists! A bit laggy</td>\n",
       "    </tr>\n",
       "    <tr>\n",
       "      <th>2895</th>\n",
       "      <td>ImSeriouss</td>\n",
       "      <td>http://steamcommunity.com/id/ImSeriouss</td>\n",
       "      <td></td>\n",
       "      <td>Posted January 10, 2014.</td>\n",
       "      <td></td>\n",
       "      <td>105600</td>\n",
       "      <td>0 of 2 people (0%) found this review helpful</td>\n",
       "      <td>True</td>\n",
       "      <td>So fun! DEFINITELY NOT RIP OFF OF MINECRAFT! e...</td>\n",
       "    </tr>\n",
       "    <tr>\n",
       "      <th>2896</th>\n",
       "      <td>ImSeriouss</td>\n",
       "      <td>http://steamcommunity.com/id/ImSeriouss</td>\n",
       "      <td></td>\n",
       "      <td>Posted December 17, 2014.</td>\n",
       "      <td></td>\n",
       "      <td>570</td>\n",
       "      <td>No ratings yet</td>\n",
       "      <td>True</td>\n",
       "      <td>bobo pinoy</td>\n",
       "    </tr>\n",
       "    <tr>\n",
       "      <th>2897</th>\n",
       "      <td>ImSeriouss</td>\n",
       "      <td>http://steamcommunity.com/id/ImSeriouss</td>\n",
       "      <td></td>\n",
       "      <td>Posted January 13, 2014.</td>\n",
       "      <td></td>\n",
       "      <td>211820</td>\n",
       "      <td>No ratings yet</td>\n",
       "      <td>True</td>\n",
       "      <td>If you want to play this game.. expect glithes...</td>\n",
       "    </tr>\n",
       "    <tr>\n",
       "      <th>...</th>\n",
       "      <td>...</td>\n",
       "      <td>...</td>\n",
       "      <td>...</td>\n",
       "      <td>...</td>\n",
       "      <td>...</td>\n",
       "      <td>...</td>\n",
       "      <td>...</td>\n",
       "      <td>...</td>\n",
       "      <td>...</td>\n",
       "    </tr>\n",
       "    <tr>\n",
       "      <th>44456</th>\n",
       "      <td>76561198092022514</td>\n",
       "      <td>http://steamcommunity.com/profiles/76561198092...</td>\n",
       "      <td></td>\n",
       "      <td>Posted July 3.</td>\n",
       "      <td></td>\n",
       "      <td>422400</td>\n",
       "      <td>No ratings yet</td>\n",
       "      <td>True</td>\n",
       "      <td>Muy entretenido y una coleccion de armas prome...</td>\n",
       "    </tr>\n",
       "    <tr>\n",
       "      <th>44457</th>\n",
       "      <td>76561198092022514</td>\n",
       "      <td>http://steamcommunity.com/profiles/76561198092...</td>\n",
       "      <td></td>\n",
       "      <td>Posted June 1.</td>\n",
       "      <td></td>\n",
       "      <td>218620</td>\n",
       "      <td>No ratings yet</td>\n",
       "      <td>True</td>\n",
       "      <td>Tiene una jugabilidad y tematica muy buena :D,...</td>\n",
       "    </tr>\n",
       "    <tr>\n",
       "      <th>44458</th>\n",
       "      <td>76561198092022514</td>\n",
       "      <td>http://steamcommunity.com/profiles/76561198092...</td>\n",
       "      <td></td>\n",
       "      <td>Posted August 17, 2014.</td>\n",
       "      <td></td>\n",
       "      <td>261820</td>\n",
       "      <td>No ratings yet</td>\n",
       "      <td>True</td>\n",
       "      <td>Buen juego, no importa el desarrrollo que tien...</td>\n",
       "    </tr>\n",
       "    <tr>\n",
       "      <th>44459</th>\n",
       "      <td>76561198092022514</td>\n",
       "      <td>http://steamcommunity.com/profiles/76561198092...</td>\n",
       "      <td></td>\n",
       "      <td>Posted February 17, 2014.</td>\n",
       "      <td></td>\n",
       "      <td>224260</td>\n",
       "      <td>No ratings yet</td>\n",
       "      <td>True</td>\n",
       "      <td>exelente aporte :DÂ¡Â¡Â¡ es una buen mod basad...</td>\n",
       "    </tr>\n",
       "    <tr>\n",
       "      <th>44603</th>\n",
       "      <td>SuchGayMuchWow</td>\n",
       "      <td>http://steamcommunity.com/id/SuchGayMuchWow</td>\n",
       "      <td></td>\n",
       "      <td>Posted July 18, 2015.</td>\n",
       "      <td>Last edited December 1, 2015.</td>\n",
       "      <td>730</td>\n",
       "      <td>No ratings yet</td>\n",
       "      <td>True</td>\n",
       "      <td>10/10 too many children with mikes.</td>\n",
       "    </tr>\n",
       "  </tbody>\n",
       "</table>\n",
       "<p>874 rows × 9 columns</p>\n",
       "</div>"
      ],
      "text/plain": [
       "                 user_id                                           user_url  \\\n",
       "1114          bokkkbokkk            http://steamcommunity.com/id/bokkkbokkk   \n",
       "2894          ImSeriouss            http://steamcommunity.com/id/ImSeriouss   \n",
       "2895          ImSeriouss            http://steamcommunity.com/id/ImSeriouss   \n",
       "2896          ImSeriouss            http://steamcommunity.com/id/ImSeriouss   \n",
       "2897          ImSeriouss            http://steamcommunity.com/id/ImSeriouss   \n",
       "...                  ...                                                ...   \n",
       "44456  76561198092022514  http://steamcommunity.com/profiles/76561198092...   \n",
       "44457  76561198092022514  http://steamcommunity.com/profiles/76561198092...   \n",
       "44458  76561198092022514  http://steamcommunity.com/profiles/76561198092...   \n",
       "44459  76561198092022514  http://steamcommunity.com/profiles/76561198092...   \n",
       "44603     SuchGayMuchWow        http://steamcommunity.com/id/SuchGayMuchWow   \n",
       "\n",
       "      funny                      posted                    last_edited  \\\n",
       "1114         Posted September 24, 2015.                                  \n",
       "2894           Posted January 10, 2014.                                  \n",
       "2895           Posted January 10, 2014.                                  \n",
       "2896          Posted December 17, 2014.                                  \n",
       "2897           Posted January 13, 2014.                                  \n",
       "...     ...                         ...                            ...   \n",
       "44456                    Posted July 3.                                  \n",
       "44457                    Posted June 1.                                  \n",
       "44458           Posted August 17, 2014.                                  \n",
       "44459         Posted February 17, 2014.                                  \n",
       "44603             Posted July 18, 2015.  Last edited December 1, 2015.   \n",
       "\n",
       "      item_id                                         helpful recommend  \\\n",
       "1114   346110  1 of 1 people (100%) found this review helpful      True   \n",
       "2894   218620   1 of 3 people (33%) found this review helpful      True   \n",
       "2895   105600    0 of 2 people (0%) found this review helpful      True   \n",
       "2896      570                                  No ratings yet      True   \n",
       "2897   211820                                  No ratings yet      True   \n",
       "...       ...                                             ...       ...   \n",
       "44456  422400                                  No ratings yet      True   \n",
       "44457  218620                                  No ratings yet      True   \n",
       "44458  261820                                  No ratings yet      True   \n",
       "44459  224260                                  No ratings yet      True   \n",
       "44603     730                                  No ratings yet      True   \n",
       "\n",
       "                                                  review  \n",
       "1114                                                 yep  \n",
       "2894              Good graphics, fun heists! A bit laggy  \n",
       "2895   So fun! DEFINITELY NOT RIP OFF OF MINECRAFT! e...  \n",
       "2896                                          bobo pinoy  \n",
       "2897   If you want to play this game.. expect glithes...  \n",
       "...                                                  ...  \n",
       "44456  Muy entretenido y una coleccion de armas prome...  \n",
       "44457  Tiene una jugabilidad y tematica muy buena :D,...  \n",
       "44458  Buen juego, no importa el desarrrollo que tien...  \n",
       "44459  exelente aporte :DÂ¡Â¡Â¡ es una buen mod basad...  \n",
       "44603                10/10 too many children with mikes.  \n",
       "\n",
       "[874 rows x 9 columns]"
      ]
     },
     "execution_count": 6,
     "metadata": {},
     "output_type": "execute_result"
    }
   ],
   "source": [
    "df_reviews[duplicadas]"
   ]
  },
  {
   "cell_type": "markdown",
   "metadata": {},
   "source": [
    "### #Se eliminan las filas duplicadas"
   ]
  },
  {
   "cell_type": "code",
   "execution_count": 7,
   "metadata": {},
   "outputs": [],
   "source": [
    "df_reviews.drop_duplicates(inplace=True)"
   ]
  },
  {
   "cell_type": "markdown",
   "metadata": {},
   "source": [
    "### Se realizan procesos de transformacion para la columna posted, normalizando y extrayendo la informacion util"
   ]
  },
  {
   "cell_type": "code",
   "execution_count": 8,
   "metadata": {},
   "outputs": [],
   "source": [
    "# Se extrae el año del campo 'posted' (se sabe que los registros que solo contienen dia y mes, pero no año, \n",
    "# corresponden al año en curso en que se posteo el review.)\n",
    "# Como el mayor año que se observa es 2015, asumimos que los reviws sin año corresponden a 2016\n",
    "\n",
    "#Se crea una expresion regular para extraer el año de la cadena de texto\n",
    "is_year = re.compile(r'(\\d{4})')"
   ]
  },
  {
   "cell_type": "markdown",
   "metadata": {},
   "source": [
    "### Funcion extract_year"
   ]
  },
  {
   "cell_type": "code",
   "execution_count": 9,
   "metadata": {},
   "outputs": [],
   "source": [
    "def extract_year(posted):\n",
    "    match = is_year.search(posted)\n",
    "    if match:\n",
    "        return int(match.group(1))\n",
    "    else:\n",
    "        #Si no se encuentra el año, se asume 2016\n",
    "        return 2016\n"
   ]
  },
  {
   "cell_type": "markdown",
   "metadata": {},
   "source": [
    "### #Se crea una nueva columna con el año de cada review y se elimina la columna posted"
   ]
  },
  {
   "cell_type": "code",
   "execution_count": 10,
   "metadata": {},
   "outputs": [],
   "source": [
    "df_reviews['posted_year'] = df_reviews['posted'].apply(extract_year)"
   ]
  },
  {
   "cell_type": "code",
   "execution_count": 11,
   "metadata": {},
   "outputs": [],
   "source": [
    "df_reviews.drop(columns='posted', inplace=True)"
   ]
  },
  {
   "cell_type": "markdown",
   "metadata": {},
   "source": [
    "### Analisis de sentimiento sobre la columna reviews utilizando la libreria TextBlob de NLP"
   ]
  },
  {
   "cell_type": "markdown",
   "metadata": {},
   "source": [
    "#### #Se crea una función para realizar análisis de sentimiento y clasificación utilizando textblob"
   ]
  },
  {
   "cell_type": "code",
   "execution_count": 12,
   "metadata": {},
   "outputs": [],
   "source": [
    "def classify_sentiment(review):\n",
    "    analysis = TextBlob(str(review))\n",
    "    #El método sentiment.polarity devuelve un valor entre -1 y 1\n",
    "    polarity = analysis.sentiment.polarity\n",
    "\n",
    "    #Se establecen umbrales para clasificar en 0, 1 o 2. Luego de algunas pruebas se consideran apropiados los umbrales -0,1 y 0,1\n",
    "    if polarity < -0.1:\n",
    "        return 0  # Negativo\n",
    "    elif polarity > 0.1:\n",
    "        return 2  # Positivo\n",
    "    else:\n",
    "        return 1  # Neutral\n"
   ]
  },
  {
   "cell_type": "markdown",
   "metadata": {},
   "source": []
  },
  {
   "cell_type": "markdown",
   "metadata": {},
   "source": [
    "### #Se aplica la función de análisis de sentimiento y a la columna 'review'"
   ]
  },
  {
   "cell_type": "code",
   "execution_count": 13,
   "metadata": {},
   "outputs": [],
   "source": [
    "df_reviews['sentiment_analysis'] = df_reviews['review'].apply(classify_sentiment)"
   ]
  },
  {
   "cell_type": "markdown",
   "metadata": {},
   "source": [
    "###  Graficos para mostrar mejor el analisis de sentimiento y las recomendaciones"
   ]
  },
  {
   "cell_type": "markdown",
   "metadata": {},
   "source": [
    "### #Se muestra un grafico de barras sobre sentiment_analysis"
   ]
  },
  {
   "cell_type": "code",
   "execution_count": 20,
   "metadata": {},
   "outputs": [
    {
     "data": {
      "image/png": "[encoded data removed]",
      "text/plain": [
       "<Figure size 800x600 with 1 Axes>"
      ]
     },
     "metadata": {},
     "output_type": "display_data"
    }
   ],
   "source": [
    "sentiment_count = df_reviews['sentiment_analysis'].value_counts()\n",
    "\n",
    "plt.figure(figsize=(8, 6))\n",
    "plt.bar(sentiment_count.index, sentiment_count.values, color=['green', 'yellow', 'red'])\n",
    "# Agregar etiquetas al eje x\n",
    "plt.xticks(sentiment_count.index, ['Positivo' , 'Neutral', 'Negativo'])\n",
    "\n",
    "plt.title('Distribución de Sentimientos')\n",
    "plt.xlabel('Sentimiento')\n",
    "plt.ylabel('Frecuencia')\n",
    "\n",
    "plt.show()"
   ]
  },
  {
   "cell_type": "markdown",
   "metadata": {},
   "source": [
    "### Recomendaciones"
   ]
  },
  {
   "cell_type": "code",
   "execution_count": 21,
   "metadata": {},
   "outputs": [
    {
     "data": {
      "image/png": "[encoded data removed]",
      "text/plain": [
       "<Figure size 600x400 with 1 Axes>"
      ]
     },
     "metadata": {},
     "output_type": "display_data"
    }
   ],
   "source": [
    "#Se muestra un grafico de barras sobre recommend\n",
    "recommend_count = df_reviews['recommend'].value_counts()\n",
    "\n",
    "plt.figure(figsize=(6, 4))\n",
    "plt.bar(recommend_count.index.astype(str), recommend_count.values, color=['green', 'red'])\n",
    "\n",
    "plt.title('Distribución de Recomendaciones')\n",
    "plt.xlabel('Recomendado')\n",
    "plt.ylabel('Frecuencia')\n",
    "\n",
    "plt.show()"
   ]
  },
  {
   "cell_type": "markdown",
   "metadata": {},
   "source": [
    "### #Se muestra un grafico de barras apiladas sobre sentiment_count y recommend"
   ]
  },
  {
   "cell_type": "code",
   "execution_count": 22,
   "metadata": {},
   "outputs": [
    {
     "data": {
      "image/png": "[encoded data removed]",
      "text/plain": [
       "<Figure size 800x600 with 1 Axes>"
      ]
     },
     "metadata": {},
     "output_type": "display_data"
    }
   ],
   "source": [
    "cross_count = pd.crosstab(df_reviews['sentiment_analysis'], df_reviews['recommend'])\n",
    "\n",
    "cross_count.plot(kind='bar', stacked=True, color=['red', 'green'], figsize=(8, 6))\n",
    "\n",
    "plt.title('Relación entre Sentiment Analysis y Recommend')\n",
    "plt.xlabel('Sentiment Analysis')\n",
    "plt.ylabel('Frecuencia')\n",
    "plt.legend(title='Recommend', labels=['No Recomendado', 'Recomendado'])\n",
    "\n",
    "plt.show()"
   ]
  },
  {
   "cell_type": "markdown",
   "metadata": {},
   "source": [
    "### #Se eliminan columnas que no usaremos"
   ]
  },
  {
   "cell_type": "code",
   "execution_count": 23,
   "metadata": {},
   "outputs": [],
   "source": [
    "df_reviews.drop(columns='review',inplace=True)"
   ]
  },
  {
   "cell_type": "code",
   "execution_count": 24,
   "metadata": {},
   "outputs": [],
   "source": [
    "df_reviews.drop(columns=['user_url','funny','last_edited','helpful'],inplace=True)"
   ]
  },
  {
   "cell_type": "markdown",
   "metadata": {},
   "source": [
    "### Guardamos reviews.parquet"
   ]
  },
  {
   "cell_type": "code",
   "execution_count": 25,
   "metadata": {},
   "outputs": [],
   "source": [
    "df_reviews.to_parquet('processed_data/reviews.parquet',index=False)"
   ]
  },
  {
   "cell_type": "markdown",
   "metadata": {},
   "source": []
  }
 ],
 "metadata": {
  "kernelspec": {
   "display_name": "Python 3",
   "language": "python",
   "name": "python3"
  },
  "language_info": {
   "codemirror_mode": {
    "name": "ipython",
    "version": 3
   },
   "file_extension": ".py",
   "mimetype": "text/x-python",
   "name": "python",
   "nbconvert_exporter": "python",
   "pygments_lexer": "ipython3",
   "version": "3.11.4"
  }
 },
 "nbformat": 4,
 "nbformat_minor": 2
}
